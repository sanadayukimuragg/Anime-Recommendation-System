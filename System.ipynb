{
 "cells": [
  {
   "attachments": {},
   "cell_type": "markdown",
   "metadata": {
    "id": "kf3nSb4OhOVz"
   },
   "source": [
    "## Download and extract dataset From [kaggle.com](https://www.kaggle.com/datasets/hernan4444/anime-recommendation-database-2020)"
   ]
  },
  {
   "cell_type": "code",
   "execution_count": 1,
   "metadata": {
    "colab": {
     "base_uri": "https://localhost:8080/"
    },
    "id": "BoXHu1bueIcR",
    "outputId": "bc38b491-3a0c-4da1-e0fe-4b828c70d503"
   },
   "outputs": [],
   "source": [
    "#!kaggle datasets download -d hernan4444/anime-recommendation-database-2020\n",
    "#!unzip -o -j anime-recommendation-database-2020.zip"
   ]
  },
  {
   "attachments": {},
   "cell_type": "markdown",
   "metadata": {
    "id": "Apx168g3mPBC"
   },
   "source": [
    "## Import library dan load dataset"
   ]
  },
  {
   "cell_type": "code",
   "execution_count": 2,
   "metadata": {
    "id": "PWtcy4faeaSV"
   },
   "outputs": [],
   "source": [
    "import numpy as np\n",
    "import pandas as pd\n",
    "from sklearn.feature_extraction.text import TfidfVectorizer\n",
    "from sklearn.metrics.pairwise import cosine_similarity"
   ]
  },
  {
   "cell_type": "code",
   "execution_count": 3,
   "metadata": {
    "colab": {
     "base_uri": "https://localhost:8080/",
     "height": 206
    },
    "id": "06NkyoMWecru",
    "outputId": "3aa41ca6-8352-42e9-e140-44917e56bce0"
   },
   "outputs": [
    {
     "data": {
      "text/html": [
       "<div>\n",
       "<style scoped>\n",
       "    .dataframe tbody tr th:only-of-type {\n",
       "        vertical-align: middle;\n",
       "    }\n",
       "\n",
       "    .dataframe tbody tr th {\n",
       "        vertical-align: top;\n",
       "    }\n",
       "\n",
       "    .dataframe thead th {\n",
       "        text-align: right;\n",
       "    }\n",
       "</style>\n",
       "<table border=\"1\" class=\"dataframe\">\n",
       "  <thead>\n",
       "    <tr style=\"text-align: right;\">\n",
       "      <th></th>\n",
       "      <th>MAL_ID</th>\n",
       "      <th>Name</th>\n",
       "      <th>Score</th>\n",
       "      <th>Genres</th>\n",
       "      <th>sypnopsis</th>\n",
       "    </tr>\n",
       "  </thead>\n",
       "  <tbody>\n",
       "    <tr>\n",
       "      <th>0</th>\n",
       "      <td>1</td>\n",
       "      <td>Cowboy Bebop</td>\n",
       "      <td>8.78</td>\n",
       "      <td>Action, Adventure, Comedy, Drama, Sci-Fi, Space</td>\n",
       "      <td>In the year 2071, humanity has colonized sever...</td>\n",
       "    </tr>\n",
       "    <tr>\n",
       "      <th>1</th>\n",
       "      <td>5</td>\n",
       "      <td>Cowboy Bebop: Tengoku no Tobira</td>\n",
       "      <td>8.39</td>\n",
       "      <td>Action, Drama, Mystery, Sci-Fi, Space</td>\n",
       "      <td>other day, another bounty—such is the life of ...</td>\n",
       "    </tr>\n",
       "    <tr>\n",
       "      <th>2</th>\n",
       "      <td>6</td>\n",
       "      <td>Trigun</td>\n",
       "      <td>8.24</td>\n",
       "      <td>Action, Sci-Fi, Adventure, Comedy, Drama, Shounen</td>\n",
       "      <td>Vash the Stampede is the man with a $$60,000,0...</td>\n",
       "    </tr>\n",
       "    <tr>\n",
       "      <th>3</th>\n",
       "      <td>7</td>\n",
       "      <td>Witch Hunter Robin</td>\n",
       "      <td>7.27</td>\n",
       "      <td>Action, Mystery, Police, Supernatural, Drama, ...</td>\n",
       "      <td>ches are individuals with special powers like ...</td>\n",
       "    </tr>\n",
       "    <tr>\n",
       "      <th>4</th>\n",
       "      <td>8</td>\n",
       "      <td>Bouken Ou Beet</td>\n",
       "      <td>6.98</td>\n",
       "      <td>Adventure, Fantasy, Shounen, Supernatural</td>\n",
       "      <td>It is the dark century and the people are suff...</td>\n",
       "    </tr>\n",
       "  </tbody>\n",
       "</table>\n",
       "</div>"
      ],
      "text/plain": [
       "   MAL_ID                             Name Score  \\\n",
       "0       1                     Cowboy Bebop  8.78   \n",
       "1       5  Cowboy Bebop: Tengoku no Tobira  8.39   \n",
       "2       6                           Trigun  8.24   \n",
       "3       7               Witch Hunter Robin  7.27   \n",
       "4       8                   Bouken Ou Beet  6.98   \n",
       "\n",
       "                                              Genres  \\\n",
       "0    Action, Adventure, Comedy, Drama, Sci-Fi, Space   \n",
       "1              Action, Drama, Mystery, Sci-Fi, Space   \n",
       "2  Action, Sci-Fi, Adventure, Comedy, Drama, Shounen   \n",
       "3  Action, Mystery, Police, Supernatural, Drama, ...   \n",
       "4          Adventure, Fantasy, Shounen, Supernatural   \n",
       "\n",
       "                                           sypnopsis  \n",
       "0  In the year 2071, humanity has colonized sever...  \n",
       "1  other day, another bounty—such is the life of ...  \n",
       "2  Vash the Stampede is the man with a $$60,000,0...  \n",
       "3  ches are individuals with special powers like ...  \n",
       "4  It is the dark century and the people are suff...  "
      ]
     },
     "execution_count": 3,
     "metadata": {},
     "output_type": "execute_result"
    }
   ],
   "source": [
    "data = pd.read_csv(\"anime_with_synopsis.csv\")\n",
    "data.head(5)"
   ]
  },
  {
   "attachments": {},
   "cell_type": "markdown",
   "metadata": {
    "id": "l-iEVISImX10"
   },
   "source": [
    "## Handling Missing Value"
   ]
  },
  {
   "cell_type": "code",
   "execution_count": 4,
   "metadata": {
    "colab": {
     "base_uri": "https://localhost:8080/"
    },
    "id": "ldHHQTS8fxi5",
    "outputId": "5a17d993-cecf-4366-90d5-b700c91080ec"
   },
   "outputs": [
    {
     "data": {
      "text/plain": [
       "MAL_ID       0\n",
       "Name         0\n",
       "Score        0\n",
       "Genres       0\n",
       "sypnopsis    8\n",
       "dtype: int64"
      ]
     },
     "execution_count": 4,
     "metadata": {},
     "output_type": "execute_result"
    }
   ],
   "source": [
    "# Check for missing values\n",
    "missing_values = data.isnull().sum()\n",
    "missing_values"
   ]
  },
  {
   "cell_type": "code",
   "execution_count": 5,
   "metadata": {
    "colab": {
     "base_uri": "https://localhost:8080/",
     "height": 423
    },
    "id": "-GjG36Q-gQvF",
    "outputId": "8c171b3d-08cb-485a-ca55-0b752105e083"
   },
   "outputs": [
    {
     "data": {
      "text/html": [
       "<div>\n",
       "<style scoped>\n",
       "    .dataframe tbody tr th:only-of-type {\n",
       "        vertical-align: middle;\n",
       "    }\n",
       "\n",
       "    .dataframe tbody tr th {\n",
       "        vertical-align: top;\n",
       "    }\n",
       "\n",
       "    .dataframe thead th {\n",
       "        text-align: right;\n",
       "    }\n",
       "</style>\n",
       "<table border=\"1\" class=\"dataframe\">\n",
       "  <thead>\n",
       "    <tr style=\"text-align: right;\">\n",
       "      <th></th>\n",
       "      <th>MAL_ID</th>\n",
       "      <th>Name</th>\n",
       "      <th>Score</th>\n",
       "      <th>Genres</th>\n",
       "      <th>sypnopsis</th>\n",
       "    </tr>\n",
       "  </thead>\n",
       "  <tbody>\n",
       "    <tr>\n",
       "      <th>0</th>\n",
       "      <td>1</td>\n",
       "      <td>Cowboy Bebop</td>\n",
       "      <td>8.78</td>\n",
       "      <td>Action, Adventure, Comedy, Drama, Sci-Fi, Space</td>\n",
       "      <td>In the year 2071, humanity has colonized sever...</td>\n",
       "    </tr>\n",
       "    <tr>\n",
       "      <th>1</th>\n",
       "      <td>5</td>\n",
       "      <td>Cowboy Bebop: Tengoku no Tobira</td>\n",
       "      <td>8.39</td>\n",
       "      <td>Action, Drama, Mystery, Sci-Fi, Space</td>\n",
       "      <td>other day, another bounty—such is the life of ...</td>\n",
       "    </tr>\n",
       "    <tr>\n",
       "      <th>2</th>\n",
       "      <td>6</td>\n",
       "      <td>Trigun</td>\n",
       "      <td>8.24</td>\n",
       "      <td>Action, Sci-Fi, Adventure, Comedy, Drama, Shounen</td>\n",
       "      <td>Vash the Stampede is the man with a $$60,000,0...</td>\n",
       "    </tr>\n",
       "    <tr>\n",
       "      <th>3</th>\n",
       "      <td>7</td>\n",
       "      <td>Witch Hunter Robin</td>\n",
       "      <td>7.27</td>\n",
       "      <td>Action, Mystery, Police, Supernatural, Drama, ...</td>\n",
       "      <td>ches are individuals with special powers like ...</td>\n",
       "    </tr>\n",
       "    <tr>\n",
       "      <th>4</th>\n",
       "      <td>8</td>\n",
       "      <td>Bouken Ou Beet</td>\n",
       "      <td>6.98</td>\n",
       "      <td>Adventure, Fantasy, Shounen, Supernatural</td>\n",
       "      <td>It is the dark century and the people are suff...</td>\n",
       "    </tr>\n",
       "    <tr>\n",
       "      <th>...</th>\n",
       "      <td>...</td>\n",
       "      <td>...</td>\n",
       "      <td>...</td>\n",
       "      <td>...</td>\n",
       "      <td>...</td>\n",
       "    </tr>\n",
       "    <tr>\n",
       "      <th>16201</th>\n",
       "      <td>48481</td>\n",
       "      <td>Daomu Biji Zhi Qinling Shen Shu</td>\n",
       "      <td>Unknown</td>\n",
       "      <td>Adventure, Mystery, Supernatural</td>\n",
       "      <td>No synopsis information has been added to this...</td>\n",
       "    </tr>\n",
       "    <tr>\n",
       "      <th>16202</th>\n",
       "      <td>48483</td>\n",
       "      <td>Mieruko-chan</td>\n",
       "      <td>Unknown</td>\n",
       "      <td>Comedy, Horror, Supernatural</td>\n",
       "      <td>ko is a typical high school student whose life...</td>\n",
       "    </tr>\n",
       "    <tr>\n",
       "      <th>16203</th>\n",
       "      <td>48488</td>\n",
       "      <td>Higurashi no Naku Koro ni Sotsu</td>\n",
       "      <td>Unknown</td>\n",
       "      <td>Mystery, Dementia, Horror, Psychological, Supe...</td>\n",
       "      <td>Sequel to Higurashi no Naku Koro ni Gou .</td>\n",
       "    </tr>\n",
       "    <tr>\n",
       "      <th>16204</th>\n",
       "      <td>48491</td>\n",
       "      <td>Yama no Susume: Next Summit</td>\n",
       "      <td>Unknown</td>\n",
       "      <td>Adventure, Slice of Life, Comedy</td>\n",
       "      <td>New Yama no Susume anime.</td>\n",
       "    </tr>\n",
       "    <tr>\n",
       "      <th>16205</th>\n",
       "      <td>48492</td>\n",
       "      <td>Scarlet Nexus</td>\n",
       "      <td>Unknown</td>\n",
       "      <td>Action, Fantasy</td>\n",
       "      <td>Solar calendar year 2020: grotesque organisms ...</td>\n",
       "    </tr>\n",
       "  </tbody>\n",
       "</table>\n",
       "<p>16206 rows × 5 columns</p>\n",
       "</div>"
      ],
      "text/plain": [
       "       MAL_ID                             Name    Score  \\\n",
       "0           1                     Cowboy Bebop     8.78   \n",
       "1           5  Cowboy Bebop: Tengoku no Tobira     8.39   \n",
       "2           6                           Trigun     8.24   \n",
       "3           7               Witch Hunter Robin     7.27   \n",
       "4           8                   Bouken Ou Beet     6.98   \n",
       "...       ...                              ...      ...   \n",
       "16201   48481  Daomu Biji Zhi Qinling Shen Shu  Unknown   \n",
       "16202   48483                     Mieruko-chan  Unknown   \n",
       "16203   48488  Higurashi no Naku Koro ni Sotsu  Unknown   \n",
       "16204   48491      Yama no Susume: Next Summit  Unknown   \n",
       "16205   48492                    Scarlet Nexus  Unknown   \n",
       "\n",
       "                                                  Genres  \\\n",
       "0        Action, Adventure, Comedy, Drama, Sci-Fi, Space   \n",
       "1                  Action, Drama, Mystery, Sci-Fi, Space   \n",
       "2      Action, Sci-Fi, Adventure, Comedy, Drama, Shounen   \n",
       "3      Action, Mystery, Police, Supernatural, Drama, ...   \n",
       "4              Adventure, Fantasy, Shounen, Supernatural   \n",
       "...                                                  ...   \n",
       "16201                   Adventure, Mystery, Supernatural   \n",
       "16202                       Comedy, Horror, Supernatural   \n",
       "16203  Mystery, Dementia, Horror, Psychological, Supe...   \n",
       "16204                   Adventure, Slice of Life, Comedy   \n",
       "16205                                    Action, Fantasy   \n",
       "\n",
       "                                               sypnopsis  \n",
       "0      In the year 2071, humanity has colonized sever...  \n",
       "1      other day, another bounty—such is the life of ...  \n",
       "2      Vash the Stampede is the man with a $$60,000,0...  \n",
       "3      ches are individuals with special powers like ...  \n",
       "4      It is the dark century and the people are suff...  \n",
       "...                                                  ...  \n",
       "16201  No synopsis information has been added to this...  \n",
       "16202  ko is a typical high school student whose life...  \n",
       "16203          Sequel to Higurashi no Naku Koro ni Gou .  \n",
       "16204                          New Yama no Susume anime.  \n",
       "16205  Solar calendar year 2020: grotesque organisms ...  \n",
       "\n",
       "[16206 rows x 5 columns]"
      ]
     },
     "execution_count": 5,
     "metadata": {},
     "output_type": "execute_result"
    }
   ],
   "source": [
    "data = data.dropna(how='any')\\\n",
    "    .reset_index(drop=True)\\\n",
    "    .copy()\n",
    "missing_values = data.isnull().sum()\n",
    "missing_values"
   ]
  },
  {
   "attachments": {},
   "cell_type": "markdown",
   "metadata": {
    "id": "KsvsebHkoF9K"
   },
   "source": [
    "## feature extraction with TF-IDF"
   ]
  },
  {
   "cell_type": "code",
   "execution_count": 7,
   "metadata": {
    "colab": {
     "base_uri": "https://localhost:8080/"
    },
    "id": "iABQEHKwgjuB",
    "outputId": "31dec3bb-7eff-4d57-9f91-86c05684f5d6"
   },
   "outputs": [],
   "source": [
    "tfidf = TfidfVectorizer()\n",
    "\n",
    "tfidf.fit(data['Genres'].values.astype('U'))#U mean Unicode\n",
    "\n",
    "tfidf_matrix = tfidf.transform(data['Genres'].values.astype('U'))"
   ]
  },
  {
   "cell_type": "code",
   "execution_count": 8,
   "metadata": {
    "colab": {
     "base_uri": "https://localhost:8080/"
    },
    "id": "q0ekUA_rgx7o",
    "outputId": "f6c4dccb-380f-403f-f877-e22e8051b72c"
   },
   "outputs": [
    {
     "name": "stdout",
     "output_type": "stream",
     "text": [
      "(16206, 16206)\n"
     ]
    }
   ],
   "source": [
    "# Creating Cosine Similarity Matrix\n",
    "cos_sim_matrix = cosine_similarity(tfidf_matrix, tfidf_matrix)\n",
    "print(cos_sim_matrix.shape)"
   ]
  },
  {
   "attachments": {},
   "cell_type": "markdown",
   "metadata": {
    "id": "FU4ghhjop1U5"
   },
   "source": [
    "## Content Based Recomender"
   ]
  },
  {
   "cell_type": "code",
   "execution_count": 9,
   "metadata": {
    "id": "1o8rzDiVg1gN"
   },
   "outputs": [],
   "source": [
    "def recommend_anime(anime_title, cosine_sim_matrix, df, top_n=5):\n",
    "    # Get the index of the anime title\n",
    "    idx = data[data['Name'] == anime_title].index[0]\n",
    "    sim_scores = list(enumerate(cos_sim_matrix[idx]))\n",
    "    sim_scores = sorted(sim_scores, key=lambda x: x[1], reverse=True)\n",
    "    top_anime = [i[0] for i in sim_scores[1:top_n]]\n",
    "    recommended_anime = data.loc[top_anime, ['Name', 'Genres']]\n",
    "\n",
    "    return recommended_anime"
   ]
  },
  {
   "attachments": {},
   "cell_type": "markdown",
   "metadata": {
    "id": "fb25uyewp7x_"
   },
   "source": [
    "## Trying Content Based Recomender"
   ]
  },
  {
   "cell_type": "code",
   "execution_count": 10,
   "metadata": {
    "colab": {
     "base_uri": "https://localhost:8080/",
     "height": 206
    },
    "id": "kJmr52-hi2VK",
    "outputId": "6b54c618-915b-4fa8-d8f4-a33abe0067fe"
   },
   "outputs": [
    {
     "data": {
      "text/html": [
       "<div>\n",
       "<style scoped>\n",
       "    .dataframe tbody tr th:only-of-type {\n",
       "        vertical-align: middle;\n",
       "    }\n",
       "\n",
       "    .dataframe tbody tr th {\n",
       "        vertical-align: top;\n",
       "    }\n",
       "\n",
       "    .dataframe thead th {\n",
       "        text-align: right;\n",
       "    }\n",
       "</style>\n",
       "<table border=\"1\" class=\"dataframe\">\n",
       "  <thead>\n",
       "    <tr style=\"text-align: right;\">\n",
       "      <th></th>\n",
       "      <th>Name</th>\n",
       "      <th>Genres</th>\n",
       "    </tr>\n",
       "  </thead>\n",
       "  <tbody>\n",
       "    <tr>\n",
       "      <th>0</th>\n",
       "      <td>Paprika</td>\n",
       "      <td>Dementia, Fantasy, Horror, Mystery, Psychologi...</td>\n",
       "    </tr>\n",
       "    <tr>\n",
       "      <th>1</th>\n",
       "      <td>Higurashi no Naku Koro ni</td>\n",
       "      <td>Mystery, Dementia, Horror, Psychological, Supe...</td>\n",
       "    </tr>\n",
       "    <tr>\n",
       "      <th>2</th>\n",
       "      <td>Higurashi no Naku Koro ni Gou</td>\n",
       "      <td>Mystery, Dementia, Horror, Psychological, Supe...</td>\n",
       "    </tr>\n",
       "    <tr>\n",
       "      <th>3</th>\n",
       "      <td>Higurashi no Naku Koro ni Sotsu</td>\n",
       "      <td>Mystery, Dementia, Horror, Psychological, Supe...</td>\n",
       "    </tr>\n",
       "    <tr>\n",
       "      <th>4</th>\n",
       "      <td>Yakusoku no Neverland</td>\n",
       "      <td>Sci-Fi, Mystery, Horror, Psychological, Thrill...</td>\n",
       "    </tr>\n",
       "  </tbody>\n",
       "</table>\n",
       "</div>"
      ],
      "text/plain": [
       "                              Name  \\\n",
       "0                          Paprika   \n",
       "1        Higurashi no Naku Koro ni   \n",
       "2    Higurashi no Naku Koro ni Gou   \n",
       "3  Higurashi no Naku Koro ni Sotsu   \n",
       "4            Yakusoku no Neverland   \n",
       "\n",
       "                                              Genres  \n",
       "0  Dementia, Fantasy, Horror, Mystery, Psychologi...  \n",
       "1  Mystery, Dementia, Horror, Psychological, Supe...  \n",
       "2  Mystery, Dementia, Horror, Psychological, Supe...  \n",
       "3  Mystery, Dementia, Horror, Psychological, Supe...  \n",
       "4  Sci-Fi, Mystery, Horror, Psychological, Thrill...  "
      ]
     },
     "execution_count": 10,
     "metadata": {},
     "output_type": "execute_result"
    }
   ],
   "source": [
    "anime_title = input(\"Anime Title : \")\n",
    "top_n = 5\n",
    "\n",
    "recommended_anime = recommend_anime(anime_title, cos_sim_matrix, data, top_n)\n",
    "recommended_anime.to_csv('recommended_anime.csv', index=False)\n",
    "recommended_anime_csv = pd.read_csv('recommended_anime.csv')\n",
    "recommended_anime_csv"
   ]
  }
 ],
 "metadata": {
  "colab": {
   "provenance": []
  },
  "kernelspec": {
   "display_name": "Python 3 (ipykernel)",
   "language": "python",
   "name": "python3"
  },
  "language_info": {
   "codemirror_mode": {
    "name": "ipython",
    "version": 3
   },
   "file_extension": ".py",
   "mimetype": "text/x-python",
   "name": "python",
   "nbconvert_exporter": "python",
   "pygments_lexer": "ipython3",
   "version": "3.9.12"
  }
 },
 "nbformat": 4,
 "nbformat_minor": 1
}
